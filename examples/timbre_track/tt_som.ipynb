{
 "cells": [
  {
   "cell_type": "markdown",
   "metadata": {},
   "source": [
    "#### COMSAR Tutorial "
   ]
  },
  {
   "cell_type": "markdown",
   "metadata": {},
   "source": [
    "# Train a Timbre Track SOM"
   ]
  },
  {
   "cell_type": "markdown",
   "metadata": {},
   "source": [
    "This notebook assumes, that you have successfully create a feature matrix of several ESRA Timbre Track files."
   ]
  },
  {
   "cell_type": "code",
   "execution_count": null,
   "metadata": {},
   "outputs": [],
   "source": [
    "import matplotlib.pyplot as plt\n",
    "import numpy as np\n",
    "import pandas as pd\n",
    "\n",
    "from apollon.som.som import IncrementalMap\n",
    "import apollon.som.utilities as asu"
   ]
  },
  {
   "cell_type": "markdown",
   "metadata": {},
   "source": [
    "## 1. Prepare your data set"
   ]
  },
  {
   "cell_type": "code",
   "execution_count": null,
   "metadata": {},
   "outputs": [],
   "source": [
    "sfm = pd.read_csv('../data/tt_example.sfm', index_col=0)\n",
    "sfm"
   ]
  },
  {
   "cell_type": "markdown",
   "metadata": {},
   "source": [
    "Different features tend to have different scales. In the this example, the\n",
    "*centroid* is in the $10^3$ range, whereas *roughness* lies somwhere around\n",
    "$10^{-2}$. Hence, the scales of these features differ by about five orders\n",
    "of magnitude. From a geometrical view point, this means that the data space\n",
    "for the SOM to learn is tremedously bigger on the *centroid*\n",
    "dimension than on the *roughness* dimension.\n",
    "\n",
    "In order to ensure a better and faster convergence of the learning algorithm, it is generally a good\n",
    "advice to normalize each feature to zero mean and unit standard deviation, \n",
    "that is, to calculate [z-scores](https://en.wikipedia.org/wiki/Standard_score).\n",
    "Note, however, that this is not mandatory with the SOM as for other algorithms\n",
    "such as PCA."
   ]
  },
  {
   "cell_type": "code",
   "execution_count": null,
   "metadata": {},
   "outputs": [],
   "source": [
    "data = sfm.to_numpy()\n",
    "scaled_data = (data - data.mean(axis=0)) / data.std(axis=0)\n",
    "scaled_data"
   ]
  },
  {
   "cell_type": "markdown",
   "metadata": {},
   "source": [
    "## 2. Init the SOM"
   ]
  },
  {
   "cell_type": "markdown",
   "metadata": {},
   "source": [
    "The SOM takes several model parameters. Check out \n",
    "\n",
    "T. Kohonen, \"The Basic SOM,\" in *Self-Organizing Maps*, Springer, 1995.\n",
    "\n",
    "and especially section 3.9 \"Practical Advice for the Construction of Good Maps\" for further information."
   ]
  },
  {
   "cell_type": "code",
   "execution_count": null,
   "metadata": {},
   "outputs": [],
   "source": [
    "dims = (10, 10, data.shape[1])    # units on vertical axis, units of horizontal axis, number of features\n",
    "n_iter = 100                      # number of iterations\n",
    "eta = .01                         # initial learning rate\n",
    "nhr = 7                           # initial radius of the map neighbourhood\n",
    "\n",
    "s = IncrementalMap(dims, n_iter, eta, nhr)"
   ]
  },
  {
   "cell_type": "markdown",
   "metadata": {},
   "source": [
    "## 3. Train the SOM"
   ]
  },
  {
   "cell_type": "markdown",
   "metadata": {},
   "source": [
    "Training of the SOM is fairly simple. Note, however, that this is only a toy\n",
    "example for illustration. In generall, it does not make any sense at all to\n",
    "train a SOM with 100 units on a data set with only 4 items."
   ]
  },
  {
   "cell_type": "code",
   "execution_count": null,
   "metadata": {},
   "outputs": [],
   "source": [
    "%time s.fit(scaled_data)"
   ]
  },
  {
   "cell_type": "markdown",
   "metadata": {},
   "source": [
    "## 4. Examine the SOM"
   ]
  },
  {
   "cell_type": "markdown",
   "metadata": {},
   "source": [
    "### 4.1 Quantizatuion Error. How well does the SOM represent the data?"
   ]
  },
  {
   "cell_type": "code",
   "execution_count": null,
   "metadata": {},
   "outputs": [],
   "source": [
    "fig, ax = plt.subplots(1)\n",
    "ax.set_xlabel('Number of iterations')\n",
    "ax.set_ylabel('Mean error')\n",
    "ax.plot(s.quantization_error);"
   ]
  },
  {
   "cell_type": "markdown",
   "metadata": {},
   "source": [
    "### 4.2 u-Matrix. Are there possibly clusters in the data?"
   ]
  },
  {
   "cell_type": "markdown",
   "metadata": {},
   "source": [
    "The u-Matrix represents the mean distance between a certain unit and its\n",
    "direct neighbours on the map. High values indicate heterogenous\n",
    "neighbourhoods and thus represent cluster borders. \"Basins\" of low values\n",
    "thus indicate clusters."
   ]
  },
  {
   "cell_type": "code",
   "execution_count": null,
   "metadata": {},
   "outputs": [],
   "source": [
    "um = asu.umatrix(s.weights, s.shape, s.metric)"
   ]
  },
  {
   "cell_type": "code",
   "execution_count": null,
   "metadata": {},
   "outputs": [],
   "source": [
    "fig, ax = plt.subplots(1, figsize=(10, 10))\n",
    "ax.set_xlabel('units')\n",
    "ax.set_ylabel('units')\n",
    "umx = ax.imshow(um, cmap='terrain', origin='lower', vmin=0, vmax=1);\n",
    "fig.colorbar(umx, ax=ax)"
   ]
  },
  {
   "cell_type": "markdown",
   "metadata": {},
   "source": [
    "### 4.3 Project data on the map"
   ]
  },
  {
   "cell_type": "code",
   "execution_count": null,
   "metadata": {},
   "outputs": [],
   "source": [
    "pos, err = asu.best_match(s.weights, scaled_data, s.metric)\n",
    "py, px = np.unravel_index(pos, s.shape)"
   ]
  },
  {
   "cell_type": "code",
   "execution_count": null,
   "metadata": {},
   "outputs": [],
   "source": [
    "fig, ax = plt.subplots(1, figsize=(10, 10))\n",
    "ax.set_xlabel('units')\n",
    "ax.set_ylabel('units')\n",
    "ax.imshow(um, cmap='terrain', origin='lower', vmin=0, vmax=1);\n",
    "ax.scatter(px, py, 100, 'r', 'x')\n",
    "for item, x, y in zip(sfm.index, px, py):\n",
    "    ax.text(x+.3, y, item)"
   ]
  },
  {
   "cell_type": "markdown",
   "metadata": {},
   "source": [
    "### 4.4 Component planes. Where are the features represented on the map?"
   ]
  },
  {
   "cell_type": "markdown",
   "metadata": {},
   "source": [
    "Yellow = high ratio, dark blue = low ratio"
   ]
  },
  {
   "cell_type": "code",
   "execution_count": null,
   "metadata": {},
   "outputs": [],
   "source": [
    "fig, axs = plt.subplots(2, 2, figsize=(10, 10))\n",
    "for i, (feat, ax) in enumerate(zip(sfm.columns, axs.flat)):\n",
    "    ax.set_title(feat)\n",
    "    ax.imshow(s.weights[:, i].reshape(s.shape), origin='lower')"
   ]
  }
 ],
 "metadata": {
  "kernelspec": {
   "display_name": "Python 3",
   "language": "python",
   "name": "python3"
  },
  "language_info": {
   "codemirror_mode": {
    "name": "ipython",
    "version": 3
   },
   "file_extension": ".py",
   "mimetype": "text/x-python",
   "name": "python",
   "nbconvert_exporter": "python",
   "pygments_lexer": "ipython3",
   "version": "3.7.7"
  }
 },
 "nbformat": 4,
 "nbformat_minor": 4
}
